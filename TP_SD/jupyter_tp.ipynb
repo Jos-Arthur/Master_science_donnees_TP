{
 "cells": [
  {
   "cell_type": "raw",
   "metadata": {},
   "source": [
    "TRAVAUX PRATIQUE EN BIG DATA : QUELQUES APPLICATIONS AVEC APACHE SPARK - MONGODB"
   ]
  },
  {
   "cell_type": "raw",
   "metadata": {},
   "source": [
    "MAPREDUCE AVEC PYTHON3\n",
    "\n",
    "    • WordCount en python"
   ]
  },
  {
   "cell_type": "code",
   "execution_count": 1,
   "metadata": {},
   "outputs": [
    {
     "name": "stdout",
     "output_type": "stream",
     "text": [
      "de 6\n",
      "par 4\n",
      "a 3\n",
      "été 3\n",
      "l’ecole 2\n",
      "supérieure 2\n",
      "d’informatique 2\n",
      "esi 2\n",
      "créée 2\n",
      "en 2\n"
     ]
    }
   ],
   "source": [
    "import csv\n",
    "import string \n",
    "\n",
    "translator = str.maketrans('','',string.punctuation)\n",
    "\n",
    "word_count = {}\n",
    "\n",
    "text=open('sd.txt').read()\n",
    "\n",
    "words = text.split()\n",
    "\n",
    "for word in words:\n",
    "    word = word.translate(translator).lower()\n",
    "    count = word_count.get(word,0)\n",
    "    count +=1\n",
    "    word_count[word] =count\n",
    "    \n",
    "word_count_liste =sorted(word_count, key=word_count.get, reverse=True)\n",
    "\n",
    "for word in word_count_liste[:10]:\n",
    "    print(word,word_count[word])\n",
    "    \n",
    "output_file = open('words_count.csv','a')\n",
    "writer = csv.writer(output_file)\n",
    "writer.writerow(['word','count'])\n",
    "\n",
    "for word in word_count_liste:\n",
    "    writer.writerow([word,word_count[word]])\n",
    "    \n",
    "    \n"
   ]
  },
  {
   "cell_type": "raw",
   "metadata": {},
   "source": [
    "MAPREDUCE AVEC APACHE SPARK \n",
    "\n",
    "    • WordCount exercise on Apache Spark"
   ]
  },
  {
   "cell_type": "code",
   "execution_count": 2,
   "metadata": {},
   "outputs": [],
   "source": [
    "import findspark\n",
    "findspark.init('/opt/spark-3.0.1-bin-hadoop3.2') # Localisation de Apache Spark en local"
   ]
  },
  {
   "cell_type": "code",
   "execution_count": 3,
   "metadata": {},
   "outputs": [],
   "source": [
    "import sys\n",
    "\n",
    "from pyspark import SparkConf, SparkContext\n",
    "\n",
    "sc = SparkContext(\"local\",\"Exercice sur le Words count\") # Création d'un context spark\n"
   ]
  },
  {
   "cell_type": "code",
   "execution_count": 12,
   "metadata": {},
   "outputs": [],
   "source": [
    "words = sc.textFile(\"sd.txt\").flatMap(lambda line: line.split(\" \"))\n",
    "\n",
    "wordscounts = words.map(lambda word: (word,1)).reduceByKey(lambda key,values:key +values)\n",
    "\n",
    "wordscounts.saveAsTextFile(\"/home/jose-arthur/Bureau/SD/spark/output/test\")\n",
    "    "
   ]
  },
  {
   "cell_type": "code",
   "execution_count": null,
   "metadata": {},
   "outputs": [],
   "source": [
    "RECUPERER DES DONNEES SUR TWITTER OU SUR FACEBOOK A TRAVERS UN PROGRAMME PARALELLE EN PYTHON"
   ]
  },
  {
   "cell_type": "code",
   "execution_count": null,
   "metadata": {},
   "outputs": [],
   "source": [
    "#!/usr/bin/env python3\n",
    "# -*- coding: utf-8 -*-\n",
    "\"\"\"\n",
    "Created on Wed Feb 10 14:04:08 2021\n",
    "\n",
    "@author: jose-arthur\n",
    "\"\"\"\n",
    "\n",
    "import threading\n",
    "import time\n",
    "import tweepy # Twitter Api to gattering data with python\n",
    "import facebook  # Facebook Api to gattering data\n",
    "import json\n",
    "import codecs\n",
    "import os\n",
    "\n",
    "####input your credentials here\n",
    "\"\"\" \n",
    "    The following shows the use of the token \n",
    "    for data collection on the social network Twitter!\n",
    "\"\"\"\n",
    "consumer_key = 'Y7eOVbjYWlAP4k6FZKbnDrvRH'\n",
    "consumer_secret = 'kaae85mzyjXCxrf0hcMgC4aTerBJrHPVYR6wQvf9ZwuljsDfWH'\n",
    "access_token = '1283183414221377537-GmXIyFKdhElR6FptUKNQAMerRtp3Ok'\n",
    "access_token_secret = 'F6xBi9soNq0PCno2tKIDgNTZkOqelsSARJgx6crMqORZL'\n",
    "\n",
    "auth = tweepy.OAuthHandler(consumer_key, consumer_secret)\n",
    "auth.set_access_token(access_token, access_token_secret)\n",
    "api = tweepy.API(auth,wait_on_rate_limit=True)\n",
    "\n",
    "\n",
    "\n",
    "\"\"\"\n",
    "\n",
    "    The use of token for data collection on the social network Facebook!\n",
    "\n",
    "\"\"\"\n",
    "\n",
    "access_token_facebook = 'EAAEMoEaTd3wBAG6zbcby94XzlhCVdJE9bW0FK2kVOdxkWCZASAfrsPAOjplHqQZBNrDX77uAjvSX6Ek8A66dQJEBP7GVgaoVfkNGOPcUVdi9PMX9ZCKrfQeeB6OoofrokcU76yGnXmgT64B98OmNwZB4CcH8QkrcgfRp5O9jnZARTWmYO98gZAY4Ar83wb1sdkl3Ir2lCrW7lU4IfrjXugGQHr2ZBZBKRSf9LOwKGFNnuQZDZD'\n",
    "\n",
    "start_time = time.time()\n",
    "\n",
    "def task1():\n",
    "    #First bloc to collect data for terrorism\n",
    "    start_time_t1 = time.time()\n",
    "    results = tweepy.Cursor(api.search,q=\"#Whuan\",count=70,\n",
    "                               lang=\"en\",\n",
    "                               since=\"2021-02-10\").items()\n",
    "    end_time_t1 = time.time()\n",
    "    print(\"Le temps d'execution du task1{}\", end_time_t1 -start_time_t1)\n",
    "    print()\n",
    "    fichier = open(\"/SD/output/para_whuan_data.csv\", \"a\")\n",
    "    for _result in results:\n",
    "        print(\"Data collecting of Wuhan\")\n",
    "        fichier.write(str(_result.text).encoding('utf8'))\n",
    "    fichier.close()\n",
    "\n",
    "def task2():\n",
    "    #Second bloc to collect data for covid19\n",
    "    start_time_t2 = time.time()\n",
    "    covids = tweepy.Cursor(api.search,q=\"#Coronavirus\",count=70,\n",
    "                               lang=\"en\",\n",
    "                               since=\"2021-02-10\").items()\n",
    "    end_time_t2 = time.time()\n",
    "    print(\"Le temps d'execution du task2 {}\", end_time_t2 -start_time_t2)\n",
    "    print()\n",
    "    \n",
    "    fichier = open(\"/SD/output/para_coronavirus_data.csv\", \"a\")\n",
    "    for _result in covids:\n",
    "        print(\"Data getting of Coronavirus\")  \n",
    "        fichier.write(str(_result.text).encoding('utf8'))\n",
    "    fichier.close()\n",
    "\n",
    "def task3():\n",
    "    #Third bloc to collect data for covid19\n",
    "    \n",
    "    token = access_token_facebook\n",
    "    graph = facebook.GraphAPI(token)   \n",
    "    start_time_t3 = time.time()\n",
    "    \n",
    "    users_posts = graph.get_object('me',fields='posts.fields(id,name,gender,email).limit(2)')\n",
    "    end_time_t3 = time.time()\n",
    "    \n",
    "    print(\"Le temps d'execution du task3-Facebook_Data {}\", end_time_t3 -start_time_t3)\n",
    "    print()\n",
    "    \n",
    "    fichier = codecs.open(\"/SD/para_facebook_data.json\", \"a\", encoding='utf8')\n",
    "    print(\"Data gattering of Graph API\")\n",
    "    fichier.write(str(json.dumps(users_posts, indent=4)))\n",
    "    fichier.close()\n",
    "    \n",
    "end_time = time.time()\n",
    "print (\"Le temps d'execution global des trois Thread =\", end_time -start_time)\n",
    "        \n",
    "if __name__ == \"__main__\":\n",
    " \n",
    "    # print ID of current process\n",
    "    print(\"ID of process running main program: {}\".format(os.getpid()))\n",
    " \n",
    "    # print name of main thread\n",
    "    print(\"Main thread name: {}\".format(threading.main_thread().name))\n",
    "   \n",
    "    # creating threads\n",
    "   \n",
    "    t1 = threading.Thread(target=task1, name='t1')\n",
    "    t2 = threading.Thread(target=task2, name='t2')  \n",
    "    t3 = threading.Thread(target=task3, name='t3')  \n",
    " \n",
    "    # starting threads\n",
    "    print(\"starting threads Now !\")\n",
    "    t1.start()\n",
    "   \n",
    "    t2.start()\n",
    "    \n",
    "    t3.start()\n",
    "    \n",
    "    # wait until all threads finish\n",
    "    print(\"Wait until all threads finish\")\n",
    "    t1.join()\n",
    "    \n",
    "    t2.join()\n",
    "    \n",
    "    t3.join()\n",
    "   "
   ]
  },
  {
   "cell_type": "raw",
   "metadata": {},
   "source": [
    "CONNEXION ENTRE SPARK ET MONGODB VIA (SPARK CONNECTOR)"
   ]
  },
  {
   "cell_type": "code",
   "execution_count": null,
   "metadata": {},
   "outputs": [],
   "source": [
    "from pyspark.sql.types import StructType, StructField, StringType, IntegerType\n",
    "from pyspark.sql import SparkSession  #  pyspark pour la connexion entre spark et mongodb"
   ]
  },
  {
   "cell_type": "raw",
   "metadata": {},
   "source": [
    "LA CELLULE SUIVANTE PERMET DE CONFIGURER APACHE SPARK À MONGODB"
   ]
  },
  {
   "cell_type": "code",
   "execution_count": null,
   "metadata": {},
   "outputs": [],
   "source": [
    "input_uri=\"mongodb://127.0.0.1/sd2.villes\"\n",
    "output_uri=\"mongodb://127.0.0.1/sd2.villes\"\n",
    "\n",
    "myspark = SparkSession \\\n",
    "    .builder \\\n",
    "    .appName(\"myGIS\") \\\n",
    "    .config(\"spark.mongodb.input.uri\", input_uri) \\\n",
    "    .config(\"spark.mongodb.output.uri\", output_uri) \\\n",
    "    .config(\"spark.jars.packages\",\"org.mongodb.spark:mongo-spark-connector_2.12:2.4.2\") \\\n",
    "    .getOrCreate()"
   ]
  },
  {
   "cell_type": "raw",
   "metadata": {},
   "source": [
    "LA CELLULE CI-DESSOUS PERMET DE RÉCUPÉRER LES DONNÉES DANS LA BASE MONGODB ET D'AFFICHER LA STRUCTURE DE LA BASE DE DONNÉES"
   ]
  },
  {
   "cell_type": "code",
   "execution_count": null,
   "metadata": {},
   "outputs": [],
   "source": [
    "df = myspark.read.format(\"com.mongodb.spark.sql.DefaultSource\").load()   \n",
    "\n",
    "print(df.printSchema()) \n",
    "\n",
    "df.show()"
   ]
  },
  {
   "cell_type": "raw",
   "metadata": {},
   "source": [
    "LA CELLULE CI-APRES PERMET D'INSERER DES DONNEES DANS LA BASE MONGODB"
   ]
  },
  {
   "cell_type": "code",
   "execution_count": null,
   "metadata": {},
   "outputs": [],
   "source": [
    "schema = StructType([\n",
    "    StructField(\"city\", StringType()),\n",
    "    StructField(\"state\",  StringType()),\n",
    "    StructField(\"pop\",  IntegerType())\n",
    "])\n",
    "\n",
    "df = myspark.createDataFrame([('Arizona','AZ',15000),('Indian','IN',25000) ], schema)\n",
    "\n",
    "df.show()\n",
    "\n",
    "df.write.format('com.mongodb.spark.sql.DefaultSource').mode(\"append\").save()"
   ]
  },
  {
   "cell_type": "raw",
   "metadata": {},
   "source": [
    "REALISATION DE MAPREDUCE AVEC APACHE SPARK ET MONGODB\n",
    "\n",
    "NOUS UTILISERONS DANS LE CADRE DE CET EXERCICE LA BIBLIOTHEQUE \"PYMONGO\""
   ]
  },
  {
   "cell_type": "code",
   "execution_count": null,
   "metadata": {},
   "outputs": [],
   "source": [
    "import pymongo # Interface from Python <---> MongoDB\n",
    "import pandas as pd\n",
    "import threading\n",
    "import time\n",
    "import os\n",
    "from pymongo import MongoClient\n",
    "from bson.code import Code # Help MongoDB with map-reduce\n",
    "\n",
    "client = MongoClient('mongodb://localhost:27017/')\n",
    "\n",
    "db = client[\"sd2\"]\n",
    "\n",
    "collection = db[\"villes\"]\n",
    "\n",
    "mes_villes = collection.find()\n",
    "\n",
    "# print(mes_villes.next())\n",
    "\n",
    "# Map function \n",
    "\n",
    "mapper = Code(\"function(){emit(this.city,this.pop)}\")\n",
    "\n",
    "\n",
    "# Reduce function\n",
    "\n",
    "reducer = Code(\"function (key,values) {return Array.sum(values)}\")\n",
    "\n",
    "# Result of query\n",
    "start_time_t1 = time.time()\n",
    "map_red = collection.map_reduce(mapper, reducer,'pop_count')\n",
    "end_time_t1 = time.time()\n",
    "print(\"Temps d'execution du task{} :\", end_time_t1 -start_time_t1)\n",
    "\n",
    "\n",
    "# Getting result\n",
    "\n",
    "data = []\n",
    "\n",
    "for result in map_red.find() :\n",
    "    data.append(result)\n",
    "\n",
    "data[:4]"
   ]
  }
 ],
 "metadata": {
  "kernelspec": {
   "display_name": "Python 3",
   "language": "python",
   "name": "python3"
  },
  "language_info": {
   "codemirror_mode": {
    "name": "ipython",
    "version": 3
   },
   "file_extension": ".py",
   "mimetype": "text/x-python",
   "name": "python",
   "nbconvert_exporter": "python",
   "pygments_lexer": "ipython3",
   "version": "3.8.3"
  }
 },
 "nbformat": 4,
 "nbformat_minor": 4
}
